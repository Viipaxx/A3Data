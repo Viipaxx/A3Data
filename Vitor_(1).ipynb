{
  "cells": [
    {
      "cell_type": "code",
      "execution_count": 14,
      "id": "95a7cdc9-5a67-4d2c-b796-80a7f0411492",
      "metadata": {
        "tags": [],
        "colab": {
          "base_uri": "https://localhost:8080/"
        },
        "id": "95a7cdc9-5a67-4d2c-b796-80a7f0411492",
        "outputId": "5516352f-8a12-4451-b7bb-631ce24e6888"
      },
      "outputs": [
        {
          "output_type": "stream",
          "name": "stdout",
          "text": [
            "Looking in indexes: https://pypi.org/simple, https://us-python.pkg.dev/colab-wheels/public/simple/\n",
            "Requirement already satisfied: pyspark in /usr/local/lib/python3.10/dist-packages (3.4.0)\n",
            "Requirement already satisfied: py4j==0.10.9.7 in /usr/local/lib/python3.10/dist-packages (from pyspark) (0.10.9.7)\n"
          ]
        }
      ],
      "source": [
        "!pip install pyspark"
      ]
    },
    {
      "cell_type": "code",
      "execution_count": 15,
      "id": "0c824238-e644-4d99-ac61-7f521211d353",
      "metadata": {
        "tags": [],
        "id": "0c824238-e644-4d99-ac61-7f521211d353"
      },
      "outputs": [],
      "source": [
        "import requests\n",
        "import zipfile\n",
        "from pyspark.sql import SparkSession"
      ]
    },
    {
      "cell_type": "code",
      "execution_count": 16,
      "id": "a948f7c4-23c6-4b21-9ce3-5e8ba94f8f1b",
      "metadata": {
        "tags": [],
        "id": "a948f7c4-23c6-4b21-9ce3-5e8ba94f8f1b"
      },
      "outputs": [],
      "source": [
        "url = 'https://download.inep.gov.br/microdados/microdados_censo_da_educacao_superior_2021.zip'"
      ]
    },
    {
      "cell_type": "code",
      "execution_count": 17,
      "id": "3a760a5f-6b04-4a2f-b2a2-849d41640c85",
      "metadata": {
        "tags": [],
        "colab": {
          "base_uri": "https://localhost:8080/"
        },
        "id": "3a760a5f-6b04-4a2f-b2a2-849d41640c85",
        "outputId": "515b4500-e0bf-4090-87f2-87112b3dd2de"
      },
      "outputs": [
        {
          "output_type": "stream",
          "name": "stderr",
          "text": [
            "/usr/local/lib/python3.10/dist-packages/urllib3/connectionpool.py:1045: InsecureRequestWarning: Unverified HTTPS request is being made to host 'download.inep.gov.br'. Adding certificate verification is strongly advised. See: https://urllib3.readthedocs.io/en/1.26.x/advanced-usage.html#ssl-warnings\n",
            "  warnings.warn(\n"
          ]
        }
      ],
      "source": [
        "r = requests.get(url, verify=False)"
      ]
    },
    {
      "cell_type": "code",
      "execution_count": 18,
      "id": "396f2595-eec4-42d6-a720-d0a96bb413a4",
      "metadata": {
        "tags": [],
        "id": "396f2595-eec4-42d6-a720-d0a96bb413a4"
      },
      "outputs": [],
      "source": [
        "with open(\"r.zip\", \"wb\") as f:\n",
        "    f.write(r.content)"
      ]
    },
    {
      "cell_type": "code",
      "execution_count": 19,
      "id": "bb3df70c-3ea0-4f76-9d96-3501f68721eb",
      "metadata": {
        "tags": [],
        "id": "bb3df70c-3ea0-4f76-9d96-3501f68721eb"
      },
      "outputs": [],
      "source": [
        "with zipfile.ZipFile(\"r.zip\", \"r\") as zip_ref:\n",
        "    zip_ref.extractall(\"./microData\")"
      ]
    },
    {
      "cell_type": "code",
      "execution_count": 20,
      "id": "d62787ef-76bb-47b6-8afc-5e3ad50903de",
      "metadata": {
        "tags": [],
        "id": "d62787ef-76bb-47b6-8afc-5e3ad50903de"
      },
      "outputs": [],
      "source": [
        "spark = SparkSession.builder.getOrCreate()"
      ]
    },
    {
      "cell_type": "code",
      "execution_count": 21,
      "id": "f555574c-ca25-4572-a41c-5a848b891611",
      "metadata": {
        "tags": [],
        "id": "f555574c-ca25-4572-a41c-5a848b891611"
      },
      "outputs": [],
      "source": [
        "df = spark.read.csv(\"microData/Microdados do Censo da Educaç╞o Superior 2021/dados/MICRODADOS_CADASTRO_IES_2021.CSV\", sep=';', header=True, inferSchema=True)"
      ]
    },
    {
      "cell_type": "code",
      "execution_count": 22,
      "id": "6f85d940-5eec-446b-b72d-d7c384f4f5a7",
      "metadata": {
        "tags": [],
        "id": "6f85d940-5eec-446b-b72d-d7c384f4f5a7"
      },
      "outputs": [],
      "source": [
        "from pyspark.sql.functions import col\n",
        "\n",
        "df = df.select([col(c).alias(c.lower()) for c in df.columns])"
      ]
    },
    {
      "cell_type": "markdown",
      "id": "5e4c7d63-ca09-4dbb-92ce-f9b2877b3d9c",
      "metadata": {
        "id": "5e4c7d63-ca09-4dbb-92ce-f9b2877b3d9c"
      },
      "source": [
        "####  Olhando para o estado de Minas Gerais, quantos municípios têm informações presentes na base de dados?\n"
      ]
    },
    {
      "cell_type": "code",
      "execution_count": 23,
      "id": "90152b27-cb17-47c1-a556-dab245173651",
      "metadata": {
        "tags": [],
        "colab": {
          "base_uri": "https://localhost:8080/"
        },
        "id": "90152b27-cb17-47c1-a556-dab245173651",
        "outputId": "f05c8720-c993-481f-c77e-439047f44b57"
      },
      "outputs": [
        {
          "output_type": "stream",
          "name": "stdout",
          "text": [
            "+--------------------------------+\n",
            "|count(DISTINCT no_municipio_ies)|\n",
            "+--------------------------------+\n",
            "|                             104|\n",
            "+--------------------------------+\n",
            "\n"
          ]
        }
      ],
      "source": [
        "df.createOrReplaceTempView('questao1')\n",
        "\n",
        "df1 = spark.sql(\"\"\"\n",
        "    select COUNT(DISTINCT no_municipio_ies) from questao1\n",
        "    where sg_uf_ies = 'MG'\n",
        "\"\"\")\n",
        "df1.show()"
      ]
    },
    {
      "cell_type": "markdown",
      "id": "b222b85b-494a-478e-9e60-cc5117a0f1f0",
      "metadata": {
        "id": "b222b85b-494a-478e-9e60-cc5117a0f1f0"
      },
      "source": [
        "#### Quantos professores doutores existem em cada cidade de Minas Gerais presente na base de dados "
      ]
    },
    {
      "cell_type": "code",
      "execution_count": 24,
      "id": "80748140-c05b-4aaa-8fdb-94f7797ec84c",
      "metadata": {
        "tags": [],
        "colab": {
          "base_uri": "https://localhost:8080/"
        },
        "id": "80748140-c05b-4aaa-8fdb-94f7797ec84c",
        "outputId": "3e3a4006-bcce-4758-ef19-e2202601f0b0"
      },
      "outputs": [
        {
          "output_type": "stream",
          "name": "stdout",
          "text": [
            "+---------------+--------------------------+\n",
            "|    nome_cidade|numero_doutores_por_cidade|\n",
            "+---------------+--------------------------+\n",
            "|        Aimor�s|                         5|\n",
            "|        Alfenas|                       661|\n",
            "|       Almenara|                         4|\n",
            "|   Al�m Para�ba|                        10|\n",
            "|       Araguari|                        55|\n",
            "|          Arax�|                        24|\n",
            "|       Baependi|                         1|\n",
            "|      Barbacena|                        70|\n",
            "|Bar�o de Cocais|                         0|\n",
            "| Belo Horizonte|                      6615|\n",
            "|     Bert�polis|                         2|\n",
            "|          Betim|                       192|\n",
            "|  Boa Esperan�a|                         1|\n",
            "|   Bom Despacho|                       129|\n",
            "|     Brumadinho|                         3|\n",
            "|     Cambuquira|                         3|\n",
            "|     Campo Belo|                         8|\n",
            "|  Campos Gerais|                         8|\n",
            "|      Capelinha|                         1|\n",
            "|      Carangola|                         6|\n",
            "+---------------+--------------------------+\n",
            "only showing top 20 rows\n",
            "\n"
          ]
        }
      ],
      "source": [
        "df.createOrReplaceTempView('questao2')\n",
        "\n",
        "df2 = spark.sql(\"\"\"\n",
        "    select no_municipio_ies nome_cidade, SUM(qt_doc_ex_dout) numero_doutores_por_cidade from questao2\n",
        "    where sg_uf_ies = 'MG'\n",
        "    group by no_municipio_ies\n",
        "    order by no_municipio_ies\n",
        "\"\"\")\n",
        "\n",
        "df2.show()"
      ]
    },
    {
      "cell_type": "markdown",
      "id": "c4c0214e-b7ba-4ad1-a194-f5ec94753b6c",
      "metadata": {
        "id": "c4c0214e-b7ba-4ad1-a194-f5ec94753b6c"
      },
      "source": [
        "####  Qual a quantidade de docentes com deficiência no estado do Paraná?\n"
      ]
    },
    {
      "cell_type": "code",
      "execution_count": 25,
      "id": "21eb91fc-e82b-42ab-99ca-b69d056e26fe",
      "metadata": {
        "tags": [],
        "colab": {
          "base_uri": "https://localhost:8080/"
        },
        "id": "21eb91fc-e82b-42ab-99ca-b69d056e26fe",
        "outputId": "79a34965-369d-4345-db65-b5acc998f162"
      },
      "outputs": [
        {
          "output_type": "stream",
          "name": "stdout",
          "text": [
            "+--------------------------+\n",
            "|pessoas_deficientes_parana|\n",
            "+--------------------------+\n",
            "|                       160|\n",
            "+--------------------------+\n",
            "\n"
          ]
        }
      ],
      "source": [
        "df.createOrReplaceTempView('questao3')\n",
        "\n",
        "df3 = spark.sql(\"\"\"\n",
        "    SELECT SUM(qt_doc_ex_com_deficiencia) AS pessoas_deficientes_parana from questao3\n",
        "    where sg_uf_ies = 'PR'\n",
        "\"\"\")\n",
        "\n",
        "df3.show()"
      ]
    },
    {
      "cell_type": "markdown",
      "id": "7aa230ec-3162-4988-b433-dbfa4d14a402",
      "metadata": {
        "id": "7aa230ec-3162-4988-b433-dbfa4d14a402"
      },
      "source": [
        "#### Passando para parquet"
      ]
    },
    {
      "cell_type": "code",
      "execution_count": 27,
      "id": "ca607e9e-f8da-40ac-b831-553e7c9b9de4",
      "metadata": {
        "id": "ca607e9e-f8da-40ac-b831-553e7c9b9de4"
      },
      "outputs": [],
      "source": [
        "df1.write.parquet('questao1')\n",
        "df2.write.parquet('questao2')\n",
        "df3.write.parquet('questao3')"
      ]
    }
  ],
  "metadata": {
    "kernelspec": {
      "display_name": "Python 3 (ipykernel)",
      "language": "python",
      "name": "python3"
    },
    "language_info": {
      "codemirror_mode": {
        "name": "ipython",
        "version": 3
      },
      "file_extension": ".py",
      "mimetype": "text/x-python",
      "name": "python",
      "nbconvert_exporter": "python",
      "pygments_lexer": "ipython3",
      "version": "3.10.10"
    },
    "colab": {
      "provenance": []
    }
  },
  "nbformat": 4,
  "nbformat_minor": 5
}