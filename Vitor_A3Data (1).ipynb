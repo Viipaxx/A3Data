{
  "cells": [
    {
      "cell_type": "code",
      "execution_count": 1,
      "id": "95a7cdc9-5a67-4d2c-b796-80a7f0411492",
      "metadata": {
        "tags": [],
        "colab": {
          "base_uri": "https://localhost:8080/"
        },
        "id": "95a7cdc9-5a67-4d2c-b796-80a7f0411492",
        "outputId": "38d84dbe-7761-4911-d65a-b7beff796458"
      },
      "outputs": [
        {
          "output_type": "stream",
          "name": "stdout",
          "text": [
            "Looking in indexes: https://pypi.org/simple, https://us-python.pkg.dev/colab-wheels/public/simple/\n",
            "Collecting pyspark\n",
            "  Downloading pyspark-3.4.0.tar.gz (310.8 MB)\n",
            "\u001b[2K     \u001b[90m━━━━━━━━━━━━━━━━━━━━━━━━━━━━━━━━━━━━━━━\u001b[0m \u001b[32m310.8/310.8 MB\u001b[0m \u001b[31m5.1 MB/s\u001b[0m eta \u001b[36m0:00:00\u001b[0m\n",
            "\u001b[?25h  Preparing metadata (setup.py) ... \u001b[?25l\u001b[?25hdone\n",
            "Requirement already satisfied: py4j==0.10.9.7 in /usr/local/lib/python3.10/dist-packages (from pyspark) (0.10.9.7)\n",
            "Building wheels for collected packages: pyspark\n",
            "  Building wheel for pyspark (setup.py) ... \u001b[?25l\u001b[?25hdone\n",
            "  Created wheel for pyspark: filename=pyspark-3.4.0-py2.py3-none-any.whl size=311317130 sha256=eafe98ed4e7fd3afe0cb418b31a5b3151cd3eda5f8f1966f5c15d08656ae2238\n",
            "  Stored in directory: /root/.cache/pip/wheels/7b/1b/4b/3363a1d04368e7ff0d408e57ff57966fcdf00583774e761327\n",
            "Successfully built pyspark\n",
            "Installing collected packages: pyspark\n",
            "Successfully installed pyspark-3.4.0\n"
          ]
        }
      ],
      "source": [
        "!pip install pyspark"
      ]
    },
    {
      "cell_type": "code",
      "execution_count": 2,
      "id": "0c824238-e644-4d99-ac61-7f521211d353",
      "metadata": {
        "tags": [],
        "id": "0c824238-e644-4d99-ac61-7f521211d353"
      },
      "outputs": [],
      "source": [
        "import requests\n",
        "import zipfile\n",
        "from pyspark.sql import SparkSession"
      ]
    },
    {
      "cell_type": "code",
      "execution_count": 3,
      "id": "a948f7c4-23c6-4b21-9ce3-5e8ba94f8f1b",
      "metadata": {
        "tags": [],
        "id": "a948f7c4-23c6-4b21-9ce3-5e8ba94f8f1b"
      },
      "outputs": [],
      "source": [
        "url = 'https://download.inep.gov.br/microdados/microdados_censo_da_educacao_superior_2021.zip'"
      ]
    },
    {
      "cell_type": "code",
      "execution_count": 4,
      "id": "3a760a5f-6b04-4a2f-b2a2-849d41640c85",
      "metadata": {
        "tags": [],
        "colab": {
          "base_uri": "https://localhost:8080/"
        },
        "id": "3a760a5f-6b04-4a2f-b2a2-849d41640c85",
        "outputId": "1a977812-bdd7-4ff5-a19a-3402991a6de2"
      },
      "outputs": [
        {
          "output_type": "stream",
          "name": "stderr",
          "text": [
            "/usr/local/lib/python3.10/dist-packages/urllib3/connectionpool.py:1045: InsecureRequestWarning: Unverified HTTPS request is being made to host 'download.inep.gov.br'. Adding certificate verification is strongly advised. See: https://urllib3.readthedocs.io/en/1.26.x/advanced-usage.html#ssl-warnings\n",
            "  warnings.warn(\n"
          ]
        }
      ],
      "source": [
        "r = requests.get(url, verify=False)"
      ]
    },
    {
      "cell_type": "code",
      "execution_count": 5,
      "id": "396f2595-eec4-42d6-a720-d0a96bb413a4",
      "metadata": {
        "tags": [],
        "id": "396f2595-eec4-42d6-a720-d0a96bb413a4"
      },
      "outputs": [],
      "source": [
        "with open(\"r.zip\", \"wb\") as f:\n",
        "    f.write(r.content)"
      ]
    },
    {
      "cell_type": "code",
      "execution_count": 6,
      "id": "bb3df70c-3ea0-4f76-9d96-3501f68721eb",
      "metadata": {
        "tags": [],
        "id": "bb3df70c-3ea0-4f76-9d96-3501f68721eb"
      },
      "outputs": [],
      "source": [
        "with zipfile.ZipFile(\"r.zip\", \"r\") as zip_ref:\n",
        "    zip_ref.extractall(\"./microData\")"
      ]
    },
    {
      "cell_type": "code",
      "execution_count": 7,
      "id": "d62787ef-76bb-47b6-8afc-5e3ad50903de",
      "metadata": {
        "tags": [],
        "id": "d62787ef-76bb-47b6-8afc-5e3ad50903de"
      },
      "outputs": [],
      "source": [
        "spark = SparkSession.builder.getOrCreate()"
      ]
    },
    {
      "cell_type": "code",
      "execution_count": 8,
      "id": "f555574c-ca25-4572-a41c-5a848b891611",
      "metadata": {
        "tags": [],
        "id": "f555574c-ca25-4572-a41c-5a848b891611"
      },
      "outputs": [],
      "source": [
        "df = spark.read.csv(\"microData/Microdados do Censo da Educaç╞o Superior 2021/dados/MICRODADOS_CADASTRO_IES_2021.CSV\", sep=';', header=True, inferSchema=True)"
      ]
    },
    {
      "cell_type": "code",
      "execution_count": 9,
      "id": "6f85d940-5eec-446b-b72d-d7c384f4f5a7",
      "metadata": {
        "tags": [],
        "id": "6f85d940-5eec-446b-b72d-d7c384f4f5a7"
      },
      "outputs": [],
      "source": [
        "from pyspark.sql.functions import col\n",
        "\n",
        "df = df.select([col(c).alias(c.lower()) for c in df.columns])"
      ]
    },
    {
      "cell_type": "code",
      "source": [
        "df.write.parquet(\"MICRODADOS_IES_CONSULTA.parquet\")\n",
        "\n",
        "parquet_df = spark.read.parquet(\"MICRODADOS_IES_CONSULTA.parquet\")\n",
        "\n",
        "parquet_df.createOrReplaceTempView(\"df_parquet_vitor\")"
      ],
      "metadata": {
        "id": "P92KfT1JyJ98"
      },
      "id": "P92KfT1JyJ98",
      "execution_count": 10,
      "outputs": []
    },
    {
      "cell_type": "markdown",
      "id": "5e4c7d63-ca09-4dbb-92ce-f9b2877b3d9c",
      "metadata": {
        "id": "5e4c7d63-ca09-4dbb-92ce-f9b2877b3d9c"
      },
      "source": [
        "####  Olhando para o estado de Minas Gerais, quantos municípios têm informações presentes na base de dados?\n"
      ]
    },
    {
      "cell_type": "code",
      "execution_count": 22,
      "id": "90152b27-cb17-47c1-a556-dab245173651",
      "metadata": {
        "tags": [],
        "colab": {
          "base_uri": "https://localhost:8080/"
        },
        "id": "90152b27-cb17-47c1-a556-dab245173651",
        "outputId": "d85484b2-2c1f-4081-b410-76489e005739"
      },
      "outputs": [
        {
          "output_type": "stream",
          "name": "stdout",
          "text": [
            "+--------------------------------+\n",
            "|count(DISTINCT no_municipio_ies)|\n",
            "+--------------------------------+\n",
            "|                             104|\n",
            "+--------------------------------+\n",
            "\n"
          ]
        }
      ],
      "source": [
        "df1 = spark.sql(\"\"\"\n",
        "    SELECT COUNT(DISTINCT no_municipio_ies) \n",
        "    FROM df_parquet_vitor\n",
        "    WHERE sg_uf_ies = 'MG'\n",
        "\"\"\")\n",
        "df1.show()"
      ]
    },
    {
      "cell_type": "markdown",
      "id": "b222b85b-494a-478e-9e60-cc5117a0f1f0",
      "metadata": {
        "id": "b222b85b-494a-478e-9e60-cc5117a0f1f0"
      },
      "source": [
        "#### Quantos professores doutores existem em cada cidade de Minas Gerais presente na base de dados "
      ]
    },
    {
      "cell_type": "code",
      "execution_count": 23,
      "id": "80748140-c05b-4aaa-8fdb-94f7797ec84c",
      "metadata": {
        "tags": [],
        "colab": {
          "base_uri": "https://localhost:8080/"
        },
        "id": "80748140-c05b-4aaa-8fdb-94f7797ec84c",
        "outputId": "e9a69233-a3e6-4576-8795-437fd695994a"
      },
      "outputs": [
        {
          "output_type": "stream",
          "name": "stdout",
          "text": [
            "+--------------------+--------------------------+\n",
            "|         nome_cidade|numero_doutores_por_cidade|\n",
            "+--------------------+--------------------------+\n",
            "|      Belo Horizonte|                      6615|\n",
            "|          Uberl�ndia|                      1939|\n",
            "|        Juiz de Fora|                      1915|\n",
            "|              Vi�osa|                      1185|\n",
            "|       Montes Claros|                       925|\n",
            "|             Uberaba|                       891|\n",
            "|              Lavras|                       812|\n",
            "|    S�o Jo�o del Rei|                       753|\n",
            "|          Ouro Preto|                       746|\n",
            "|          Diamantina|                       673|\n",
            "|             Alfenas|                       661|\n",
            "|        Pouso Alegre|                       499|\n",
            "|             Itajub�|                       304|\n",
            "|            Contagem|                       219|\n",
            "|         Sete Lagoas|                       201|\n",
            "|               Betim|                       192|\n",
            "|         Divin�polis|                       133|\n",
            "|        Bom Despacho|                       129|\n",
            "|Governador Valadares|                       110|\n",
            "|            Ipatinga|                       107|\n",
            "+--------------------+--------------------------+\n",
            "only showing top 20 rows\n",
            "\n"
          ]
        }
      ],
      "source": [
        "df2 = spark.sql(\"\"\"\n",
        "    SELECT no_municipio_ies nome_cidade, SUM(qt_doc_ex_dout) numero_doutores_por_cidade  \n",
        "    FROM df_parquet_vitor\n",
        "    WHERE sg_uf_ies = 'MG'\n",
        "    GROUP BY no_municipio_ies\n",
        "    ORDER BY numero_doutores_por_cidade DESC\n",
        "\"\"\")\n",
        "\n",
        "df2.show()"
      ]
    },
    {
      "cell_type": "markdown",
      "id": "c4c0214e-b7ba-4ad1-a194-f5ec94753b6c",
      "metadata": {
        "id": "c4c0214e-b7ba-4ad1-a194-f5ec94753b6c"
      },
      "source": [
        "####  Qual a quantidade de docentes com deficiência no estado do Paraná?\n"
      ]
    },
    {
      "cell_type": "code",
      "execution_count": 19,
      "id": "21eb91fc-e82b-42ab-99ca-b69d056e26fe",
      "metadata": {
        "tags": [],
        "colab": {
          "base_uri": "https://localhost:8080/"
        },
        "id": "21eb91fc-e82b-42ab-99ca-b69d056e26fe",
        "outputId": "d4ca37f7-26e3-41b4-e0ea-0f32da61d0fd"
      },
      "outputs": [
        {
          "output_type": "stream",
          "name": "stdout",
          "text": [
            "+--------------------------+\n",
            "|pessoas_deficientes_parana|\n",
            "+--------------------------+\n",
            "|                       160|\n",
            "+--------------------------+\n",
            "\n"
          ]
        }
      ],
      "source": [
        "df3 = spark.sql(\"\"\"\n",
        "    SELECT SUM(qt_doc_ex_com_deficiencia) AS pessoas_deficientes_parana \n",
        "    FROM df_parquet_vitor\n",
        "    WHERE sg_uf_ies = 'PR'\n",
        "\"\"\")\n",
        "\n",
        "df3.show()"
      ]
    },
    {
      "cell_type": "code",
      "execution_count": null,
      "id": "ca607e9e-f8da-40ac-b831-553e7c9b9de4",
      "metadata": {
        "id": "ca607e9e-f8da-40ac-b831-553e7c9b9de4"
      },
      "outputs": [],
      "source": [
        "df1.write.parquet('questao1')\n",
        "df2.write.parquet('questao2')\n",
        "df3.write.parquet('questao3')"
      ]
    }
  ],
  "metadata": {
    "kernelspec": {
      "display_name": "Python 3 (ipykernel)",
      "language": "python",
      "name": "python3"
    },
    "language_info": {
      "codemirror_mode": {
        "name": "ipython",
        "version": 3
      },
      "file_extension": ".py",
      "mimetype": "text/x-python",
      "name": "python",
      "nbconvert_exporter": "python",
      "pygments_lexer": "ipython3",
      "version": "3.10.10"
    },
    "colab": {
      "provenance": []
    }
  },
  "nbformat": 4,
  "nbformat_minor": 5
}